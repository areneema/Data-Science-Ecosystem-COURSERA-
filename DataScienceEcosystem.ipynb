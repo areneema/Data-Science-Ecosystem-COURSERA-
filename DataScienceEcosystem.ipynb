{
  "nbformat": 4,
  "nbformat_minor": 0,
  "metadata": {
    "colab": {
      "provenance": []
    },
    "kernelspec": {
      "name": "python3",
      "display_name": "Python 3"
    },
    "language_info": {
      "name": "python"
    }
  },
  "cells": [
    {
      "cell_type": "markdown",
      "source": [
        "<h1>Data Science Tools and Ecosystem</h1>"
      ],
      "metadata": {
        "id": "wc5T6wNw2b8b"
      }
    },
    {
      "cell_type": "markdown",
      "source": [
        "In this notebook, Data Science Tools and Ecosystem are summarized."
      ],
      "metadata": {
        "id": "OXKYggDC2nW0"
      }
    },
    {
      "cell_type": "markdown",
      "source": [
        "**Objectives:**\n",
        "\n",
        "*   List popular languages for Data Science\n",
        "*   Identify key data science libraries and tools  \n",
        "*   Perform basic arithmetic operations in Python  \n",
        "*   Convert units using Python code  \n",
        "*   Demonstrate markdown and code usage in a Jupyter Notebook"
      ],
      "metadata": {
        "id": "9WC6Zl2m9r-W"
      }
    },
    {
      "cell_type": "markdown",
      "source": [
        "Some of the popular languages that Data Scientists use are:\n",
        "\n",
        "1.   Python\n",
        "2.   R\n",
        "3.   SQL\n",
        "4.   Julia\n",
        "5.   Scala\n",
        "\n",
        "\n",
        "\n",
        "\n",
        "\n",
        "\n",
        "\n"
      ],
      "metadata": {
        "id": "0Am8_ReF3dE7"
      }
    },
    {
      "cell_type": "markdown",
      "source": [
        "Some of the commonly used libraries used by Data Scientists include:\n",
        "\n",
        "1.  NumPy\n",
        "2.  Pandas\n",
        "3.  Matplotlib\n",
        "4.  Scikit-learn\n",
        "5.  TensorFlow\n",
        "\n",
        "\n",
        "\n",
        "\n",
        "\n"
      ],
      "metadata": {
        "id": "ybAK8oyW4zyy"
      }
    },
    {
      "cell_type": "markdown",
      "source": [
        "Data Science Tools\n",
        "\n",
        "| Tools               | Category           |\n",
        "|---------------------|--------------------|\n",
        "| Jupyter Notebook    | IDE / Notebook     |\n",
        "| RStudio             | IDE                |\n",
        "| Apache Spark        | Big Data Tool      |\n",
        "| Tableau             | Data Visualization |\n",
        "| TensorFlow          | Machine Learning   |\n"
      ],
      "metadata": {
        "id": "PJPI8tFH5P-Z"
      }
    },
    {
      "cell_type": "markdown",
      "source": [
        "<h3>Below are a few examples of evaluating arithmetic expressions in Python</h3>"
      ],
      "metadata": {
        "id": "1I2SBVe757I4"
      }
    },
    {
      "cell_type": "code",
      "source": [
        "# This a simple arithmetic expression to mutiply then add integers\n",
        "result = (3 * 4) + 5\n",
        "print(\"The result is:\", result)"
      ],
      "metadata": {
        "colab": {
          "base_uri": "https://localhost:8080/"
        },
        "id": "j1kmZlqE6q5U",
        "outputId": "f9a89cd8-c5e9-42b8-b859-ee0deaa7bbe1"
      },
      "execution_count": null,
      "outputs": [
        {
          "output_type": "stream",
          "name": "stdout",
          "text": [
            "The result is: 17\n"
          ]
        }
      ]
    },
    {
      "cell_type": "code",
      "source": [
        " # This will convert 200 minutes to hours by diving by 60\n",
        "minutes = 200\n",
        "hours = minutes / 60\n",
        "print(\"Hours:\", hours)"
      ],
      "metadata": {
        "colab": {
          "base_uri": "https://localhost:8080/"
        },
        "id": "sOBcFxaX7unF",
        "outputId": "5275f4a8-21d7-4875-b803-d4494231b440"
      },
      "execution_count": null,
      "outputs": [
        {
          "output_type": "stream",
          "name": "stdout",
          "text": [
            "Hours: 3.3333333333333335\n"
          ]
        }
      ]
    },
    {
      "cell_type": "markdown",
      "source": [
        "<h2>Author</h2>\n",
        "\n",
        "---\n",
        "\n",
        "\n",
        "Arunima Mohanty\n",
        "\n"
      ],
      "metadata": {
        "id": "20x0GBPL-rRj"
      }
    }
  ]
}